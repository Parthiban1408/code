{
 "cells": [
  {
   "cell_type": "code",
   "execution_count": null,
   "id": "e294393c",
   "metadata": {},
   "outputs": [],
   "source": [
    "# finding the len of the sum  digit\n",
    "def add(a,b):\n",
    "    \n",
    "    d=a+b\n",
    "    print(d)\n",
    "    if len(str(d))>2:\n",
    "        print('multidigit')\n",
    "    elif len(str(d))==2:\n",
    "            print('two digit')\n",
    "    else:\n",
    "        print('single digit')\n",
    "add(int(input('enter the num')),int(input('enter the number')))  "
   ]
  },
  {
   "cell_type": "code",
   "execution_count": null,
   "id": "002f8f28",
   "metadata": {},
   "outputs": [],
   "source": [
    "def add(d,c): # converting  two strings into operand and operating  with arithmetic operation\n",
    "    a=int(d)+int(c)\n",
    "    print(a)\n",
    "add(len(str(input('e :'))),len(str(input('n: '))))"
   ]
  },
  {
   "cell_type": "code",
   "execution_count": null,
   "id": "62320c7e",
   "metadata": {},
   "outputs": [],
   "source": [
    "list1=['addidas','puma','nike', 'reebok','deckathlon','undre harmor','spark','skecher'] # seaching last word in the list\n",
    "def listo(mint):\n",
    "    for each in list1:\n",
    "        print(each)\n",
    "listo(list1)\n",
    "for eachl in list1:\n",
    "        if eachl.endswith(str(input('last_word'))):\n",
    "            print(eachl)\n",
    "        else:\n",
    "            print('nothing in it')"
   ]
  },
  {
   "cell_type": "code",
   "execution_count": null,
   "id": "81712bbe",
   "metadata": {},
   "outputs": [],
   "source": [
    "#optimized code\n",
    "list1=['addidas','puma','nike', 'reebok','deckathlon','undre harmor','spark','skecher'] # seaching last word in the list\n",
    "def listo(mint):\n",
    "    for each in list1:\n",
    "        listo(list1)\n",
    "for eachl in list1:\n",
    "        c='k'\n",
    "        if eachl.endswith(c):\n",
    "            print(eachl)\n",
    "        else:\n",
    "            print('nothing in it')"
   ]
  },
  {
   "cell_type": "code",
   "execution_count": null,
   "id": "b0ebe6cd",
   "metadata": {},
   "outputs": [],
   "source": [
    "list1=['addidas','pumak','nike', 'reebok','deckathlon','undre harmor','spark','skecher']# seaching last word in the two list\n",
    "list2=['addidak','puma','nike', 'reeboks','deckathlon','undre harmor','spark','skecherk']\n",
    "\n",
    "def listo(mint,mint1):\n",
    "    for each in list1 and list2:\n",
    "        listo(list1,list2)\n",
    "for eachl in list1 or list2:\n",
    "        c=str(input('enter the number'))\n",
    "        if eachl.endswith(c):\n",
    "            print(eachl)\n",
    "        else:\n",
    "            print('nothing in it')"
   ]
  }
 ],
 "metadata": {
  "kernelspec": {
   "display_name": "Python 3 (ipykernel)",
   "language": "python",
   "name": "python3"
  },
  "language_info": {
   "codemirror_mode": {
    "name": "ipython",
    "version": 3
   },
   "file_extension": ".py",
   "mimetype": "text/x-python",
   "name": "python",
   "nbconvert_exporter": "python",
   "pygments_lexer": "ipython3",
   "version": "3.9.12"
  }
 },
 "nbformat": 4,
 "nbformat_minor": 5
}
